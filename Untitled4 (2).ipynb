{
 "cells": [
  {
   "cell_type": "code",
   "execution_count": null,
   "metadata": {},
   "outputs": [],
   "source": [
    "from opensky_api_ISAE import * \n",
    "import json\n",
    "import numpy as np\n",
    "import matplotlib.pyplot as plt\n",
    "from time import gmtime, strftime\n",
    "api = OpenSkyApi()\n",
    "def functions(observation,prop):\n",
    "    chk=observation[prop]\n",
    "    if chk is not None:\n",
    "        return chk\n",
    "\n",
    "# Google maps\n",
    "import requests\n",
    "import shutil\n",
    "\n",
    "# set the ISAE proxy\n",
    "proxyDict={ 'http' : 'http://proxy.isae.fr:3128', 'https' : 'https://proxy.isae.fr:3128'}\n",
    "\n",
    "\n",
    "\n",
    "\n",
    "# Google maps\n",
    "MAPS_API = \"http://maps.google.com/maps/api/staticmap?\"\n",
    "\n",
    "#flight tracking   \n",
    "time.sleep(11)\n",
    "markers=[]\n",
    "def flightrace(icaw,num):\n",
    "    j=0\n",
    "    while j<num:\n",
    "        json_string2 = api.get_states(icao24=icaw)\n",
    "        data2= json.loads(json_string2)\n",
    "        markers.append(str(data2['states'][0]['latitude']) + \",\" + str(data2['states'][0]['longitude']))\n",
    "        time.sleep(20)\n",
    "        j+=1\n",
    "\n",
    "\n",
    " \n",
    "flightrace('345212',6)\n",
    "\n",
    "print(markers)\n",
    "                \n",
    "params = ({'center' : 'Toulouse', 'sensor' : 'false', 'size' : '640x640', \n",
    "                             'markers' : '|'.join(markers), \n",
    "                           })                \n",
    "\n",
    "# create the file myMap\n",
    "r = requests.get(MAPS_API,  params=params , proxies=proxyDict, stream=True)\n",
    "if r.status_code == 200:\n",
    "    with open('LIVETRACKS2.png', 'wb') as f:\n",
    "        r.raw.decode_content = True\n",
    "        shutil.copyfileobj(r.raw, f) \n",
    "        "
   ]
  },
  {
   "cell_type": "code",
   "execution_count": null,
   "metadata": {
    "collapsed": true
   },
   "outputs": [],
   "source": []
  }
 ],
 "metadata": {
  "kernelspec": {
   "display_name": "Python 3",
   "language": "python",
   "name": "python3"
  },
  "language_info": {
   "codemirror_mode": {
    "name": "ipython",
    "version": 3
   },
   "file_extension": ".py",
   "mimetype": "text/x-python",
   "name": "python",
   "nbconvert_exporter": "python",
   "pygments_lexer": "ipython3",
   "version": "3.6.1"
  }
 },
 "nbformat": 4,
 "nbformat_minor": 2
}
