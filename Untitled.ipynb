{
 "cells": [
  {
   "cell_type": "code",
   "execution_count": 59,
   "metadata": {},
   "outputs": [
    {
     "name": "stdout",
     "output_type": "stream",
     "text": [
      "0.9999999999999998\n",
      "{'a': 0.07742546585666758, 'b': 0.013921615632436605, 'c': 0.02413820658095021, 'd': 0.04782619711666832, 'e': 0.1278067852040687, 'f': 0.02153825764441508, 'g': 0.021208878806128394, 'h': 0.06471222229368509, 'i': 0.07165841270583741, 'j': 0.0012395558647948592, 'k': 0.0078563674386605, 'l': 0.041195742632341104, 'm': 0.026428266551286623, 'n': 0.07164866776979342, 'o': 0.07407320785753684, 'p': 0.01597389916329979, 'q': 0.0009413608218489262, 'r': 0.05922582330092167, 's': 0.060818145850508785, 't': 0.08665392029032114, 'u': 0.029813657332966925, 'v': 0.009121260137169719, 'w': 0.021099735522435766, 'x': 0.0016527411530598125, 'y': 0.02163180903043733, 'z': 0.00038979744175938975}\n",
      "0.9999999999999999\n",
      "{'a': 0.09150522838814173, 'b': 0.011174765762962242, 'c': 0.029520053089979268, 'd': 0.03660059163832827, 'e': 0.1669747335190483, 'f': 0.010295556713670296, 'g': 0.0089401875396019, 'h': 0.010612371914801081, 'i': 0.07408414161826955, 'j': 0.0036855543516161327, 'k': 2.9994338568595178e-05, 'l': 0.06505397106296186, 'm': 0.028897670564680917, 'n': 0.06613189260527076, 'o': 0.05255008117217875, 'p': 0.026618100833467682, 'q': 0.010685483115062032, 'r': 0.06499773167814575, 's': 0.08121529561295306, 't': 0.07338489860038917, 'u': 0.062457586130617845, 'v': 0.016225062519449454, 'w': 9.373230802685993e-06, 'x': 0.0038898907831146873, 'y': 0.0031925224113948493, 'z': 0.0012672608045231463}\n",
      "1.0\n",
      "{'a': 0.12091471795904431, 'b': 0.015100425616005064, 'c': 0.03716979739777649, 'd': 0.05455776833632044, 'e': 0.13882173280620153, 'f': 0.004740809483369958, 'g': 0.010772349843098654, 'h': 0.012457679160824816, 'i': 0.048540611121047295, 'j': 0.006585604098320674, 'k': 0.0, 'l': 0.05574719184738358, 'm': 0.027927689053926785, 'n': 0.06781590075380184, 'o': 0.09590680722959376, 'p': 0.02217818339634818, 'q': 0.020314002804087815, 'r': 0.06313449991057436, 's': 0.07862577184330627, 't': 0.03861811750903949, 'u': 0.04890081508654275, 'v': 0.011167573638572842, 'w': 1.250708213525909e-06, 'x': 0.00023575849824963385, 'y': 0.015705768391351602, 'z': 0.0040591735069983375}\n",
      "1.0000000000000002\n",
      "{'a': 0.050501071488767424, 'b': 0.020512869904408756, 'c': 0.028938383376273146, 'd': 0.05439406708242036, 'e': 0.17669981459632564, 'f': 0.014574173508945125, 'g': 0.03598372300209482, 'h': 0.044907177770821795, 'i': 0.08650020466639378, 'j': 0.001958055428475115, 'k': 0.012214490380679493, 'l': 0.03700464713105873, 'm': 0.02196527894825552, 'n': 0.11809202764200236, 'o': 0.022288892634417665, 'p': 0.00593965953143435, 'q': 0.0001955166020562953, 'r': 0.06886036936264477, 's': 0.06568876261106162, 't': 0.05411764705882353, 'u': 0.03905420047675231, 'v': 0.009574534684934145, 'w': 0.016378127182104935, 'x': 0.00036888107678601526, 'y': 0.0011730996123377718, 'z': 0.012114324239724543}\n",
      "\n",
      "\n",
      "The divergence between English and French is 0.6730237696599869\n",
      "The divergence between English and German is 0.39659695390826755\n",
      "The divergence between French and German is 0.7649154977627968\n"
     ]
    }
   ],
   "source": [
    "import math\n",
    "from math import log,fabs\n",
    "\n",
    "def readText(filename):\n",
    "   infile = open(filename,'r')\n",
    "   myText=infile.read()\n",
    "   myText=myText.lower()\n",
    "   return myText\n",
    "\n",
    "def remove_punc(text):\n",
    "    punctuation = '!@#$%^&*()_-+={}[]:;\"\\'|<>,.?/~`0123456789\\n '\n",
    "    for marker in punctuation:\n",
    "        text = text.replace(marker, \"\")\n",
    "    return text\n",
    "\n",
    "def counter(word,list_to_search):                 \n",
    "    counts = {}    \n",
    "    for ch in word:\n",
    "        counts[ch]=0\n",
    "    for word in list_to_search:              \n",
    "        if word in counts:                   \n",
    "            counts[word] = counts[word] + 1  \n",
    "        else:                                \n",
    "            counts[word] = 1                 \n",
    "    return counts   \n",
    "\n",
    "def freqcounter(s,text):\n",
    "    words = text.split()\n",
    "    item_to_count=s\n",
    "    number_of_hits = 0\n",
    "    for word in words:\n",
    "      if word == item_to_count:\n",
    "        number_of_hits += 1\n",
    "    return number_of_hits\n",
    "\n",
    "def compfreq(dict):\n",
    "    su=sum(dict.values())\n",
    "    for key, value in dict.items():\n",
    "        dict[key] = dict[key]/su\n",
    "    return dict    \n",
    "\n",
    "myText=remove_punc(readText('data/wutheringHeights.txt'))\n",
    "englishOF=compfreq(counter(\"abcdefghijklmnopqrstuvwxyz\",myText))\n",
    "print(sum(englishOF.values()))\n",
    "print(englishOF)\n",
    "\n",
    "myText=remove_punc(readText('data/MadameBovary.txt'))\n",
    "frenchOF=compfreq(counter(\"abcdefghijklmnopqrstuvwxyz\",myText))\n",
    "print(sum(frenchOF.values()))\n",
    "print(frenchOF)\n",
    "\n",
    "myText=remove_punc(readText('data/donQuijote.txt'))\n",
    "spanishOF=compfreq(counter(\"abcdefghijklmnopqrstuvwxyz\",myText))\n",
    "print(sum(spanishOF.values()))\n",
    "print(spanishOF)\n",
    "\n",
    "myText=remove_punc(readText('data/kritikDerReinenVernunft.txt'))\n",
    "germanOF=compfreq(counter(\"abcdefghijklmnopqrstuvwxyz\",myText))\n",
    "print(sum(germanOF.values()))\n",
    "print(germanOF)\n",
    "\n",
    " \n",
    "English=list(englishOF.values())\n",
    "French=list(frenchOF.values())\n",
    "Spanish=list(spanishOF.values())\n",
    "German=list(germanOF.values())\n",
    "\n",
    "def kl(p, q):\n",
    "    s=0\n",
    "    for dist in range(0,len(p)):\n",
    "        if q[dist]!=0:\n",
    "            s+=p[dist]*math.log2(p[dist]/q[dist])\n",
    "    return s\n",
    "\n",
    "kl_divergence_en_fr=abs(kl(English,French)+kl(French,English))\n",
    "kl_divergence_en_ge=abs(kl(English,German)+kl(German,English))\n",
    "kl_divergence_fr_ge=abs(kl(French,German)+kl(German,French))\n",
    "\n",
    "print(\"\\n\")\n",
    "print(\"The divergence between English and French is \"+ str(kl_divergence_en_fr))\n",
    "print(\"The divergence between English and German is \"+ str(kl_divergence_en_ge))\n",
    "print(\"The divergence between French and German is \"+ str(kl_divergence_fr_ge))\n",
    "\n"
   ]
  },
  {
   "cell_type": "code",
   "execution_count": null,
   "metadata": {
    "collapsed": true
   },
   "outputs": [],
   "source": []
  },
  {
   "cell_type": "code",
   "execution_count": null,
   "metadata": {
    "collapsed": true
   },
   "outputs": [],
   "source": []
  }
 ],
 "metadata": {
  "kernelspec": {
   "display_name": "Python 3",
   "language": "python",
   "name": "python3"
  },
  "language_info": {
   "codemirror_mode": {
    "name": "ipython",
    "version": 3
   },
   "file_extension": ".py",
   "mimetype": "text/x-python",
   "name": "python",
   "nbconvert_exporter": "python",
   "pygments_lexer": "ipython3",
   "version": "3.6.1"
  }
 },
 "nbformat": 4,
 "nbformat_minor": 2
}
