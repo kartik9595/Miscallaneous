{
 "cells": [
  {
   "cell_type": "code",
   "execution_count": 4,
   "metadata": {},
   "outputs": [
    {
     "data": {
      "text/html": [
       "<div id=\"glowscript\" class=\"glowscript\"></div>"
      ],
      "text/plain": [
       "<IPython.core.display.HTML object>"
      ]
     },
     "metadata": {},
     "output_type": "display_data"
    },
    {
     "data": {
      "application/javascript": [
       "window.__context = { glowscript_container: $(\"#glowscript\").removeAttr(\"id\")}"
      ],
      "text/plain": [
       "<IPython.core.display.Javascript object>"
      ]
     },
     "metadata": {},
     "output_type": "display_data"
    },
    {
     "name": "stdout",
     "output_type": "stream",
     "text": [
      "ERROR! Session/line number was not unique in database. History logging moved to new session 180\n",
      "Satellite message :Ping\n",
      "Antenna message :Transmitted\n",
      "Number of Hops :6244\n"
     ]
    }
   ],
   "source": [
    "from __future__ import division, print_function\n",
    "from vpython import *\n",
    "import math\n",
    "\n",
    "# Right button drag or Ctrl-drag to rotate \"camera\" to view scene.\n",
    "# To zoom, drag with middle button or Alt/Option depressed, or use scroll wheel.\n",
    "#  On a two-button mouse, middle is left + right.\n",
    "\n",
    "scene=canvas(title=\"CONSTELLATION\")\n",
    "G = 6.7e-11\n",
    "\n",
    "class Planet:\n",
    "    def __init__(self, mass, position, radius, col):\n",
    "        self.mass = mass\n",
    "        self.position = position\n",
    "        self.radius=radius\n",
    "        self.col=col\n",
    "        self.s=sphere(pos=self.position, radius=self.radius, color=self.col, \n",
    "                make_trail=True, trail_type='points', interval=10, retain=20)\n",
    "\n",
    "class message():\n",
    "    def __init__(self,received,text):\n",
    "        self.received=received\n",
    "        self.text=text\n",
    "    \n",
    "class antenna(message):\n",
    "    def __init__(self,received,text,position,nbHops):\n",
    "        message.__init__(self,received,text)     \n",
    "        self.position = position\n",
    "        self.s=sphere(pos=self.position, radius=1e5, color=color.white, \n",
    "                make_trail=True, trail_type='points', interval=10, retain=20)\n",
    "        self.nbHops=nbHops\n",
    "        \n",
    "class Satellite(message):\n",
    "    def __init__(self, planet, position, radius, col,angular,orbital,received,text):\n",
    "        message.__init__(self,received,text)\n",
    "        self.planet = planet\n",
    "        self.position = position\n",
    "        self.radius=radius\n",
    "        self.col=col\n",
    "        self.s=sphere(pos=self.position, radius=self.radius, color=self.col, \n",
    "                make_trail=True, trail_type='curve', interval=10, retain=500)      \n",
    "        self.r=self.s.pos-self.planet.position\n",
    "        self.x=cos(orbital)*(cos(angular)*sqrt(G*self.planet.mass/mag(self.position)))\n",
    "        self.y=cos(orbital)*(sin(angular)*sqrt(G*self.planet.mass/mag(self.position)))\n",
    "        self.z=sin(orbital)*sqrt(G*self.planet.mass/mag(self.position))\n",
    "        self.velocity=vector(self.x,self.y,self.z) \n",
    "        self.con=cone(pos=self.planet.position, axis=self.s.pos,radius=(mag(self.r)*math.tan(6*pi/180)),opacity=0.5)\n",
    "        self.mybox_left = box(pos=self.position+vector(0,1e6,0),axis=self.s.pos,length=1e6, height=1e5, width=1e6, up=self.r) \n",
    "        self.mybox_right = box(pos=self.position-vector(0,1e6,0),axis=self.s.pos,length=1e6, height=1e5, width=1e6,up=self.r) \n",
    "    def updatePosition(self,dt):   \n",
    "        self.dt = dt\n",
    "        self.r=self.s.pos-self.planet.position\n",
    "        self.f=(-self.r/mag(self.r))*G*self.planet.mass/mag2(self.r)\n",
    "        self.velocity=self.velocity+self.f*self.dt\n",
    "        self.s.pos=self.s.pos+self.velocity*self.dt\n",
    "        self.con.axis=self.s.pos\n",
    "        self.mybox_left.pos=self.mybox_left.pos+self.velocity*self.dt\n",
    "        self.mybox_right.pos=self.mybox_right.pos+self.velocity*self.dt\n",
    "                 \n",
    "pos1=vector(0,20e6+6.4e6,0)\n",
    "pos2=rotate(pos1, angle=2*pi/3, axis=vector(0,0,1))\n",
    "pos3=rotate(pos1, angle=4*pi/3, axis=vector(0,0,1))            \n",
    "        \n",
    "earth=Planet(5.98e24,vector(0,0,0),6.4e6,color.green)        \n",
    "#moon=Planet(0.07346e24,vector(378e6,0,0),1.736e6,color.yellow)\n",
    "satelliteO1= Satellite(earth,pos1,1e6,color.red,0,0,False,\"Not Received\")\n",
    "anten=antenna(False,\"Ping\",vector(-6.4e6,0,0),0)\n",
    "\n",
    "loop=True\n",
    "while loop==True:\n",
    "    rate(100)    \n",
    "    satelliteO1.updatePosition(5)\n",
    "    ang=(diff_angle(satelliteO1.s.pos,anten.s.pos))\n",
    "    if ang <=0.104 :\n",
    "        satelliteO1.received=True\n",
    "        anten.received=True\n",
    "        satelliteO1.text=\"Ping\"\n",
    "        anten.text=\"Transmitted\"\n",
    "        print(\"Satellite message :\"+satelliteO1.text)\n",
    "        print(\"Antenna message :\"+anten.text)\n",
    "        print(\"Number of Hops :\"+str(anten.nbHops))\n",
    "        loop=False\n",
    "    else:   \n",
    "        anten.nbHops+=1\n",
    "        \n",
    "        \n",
    "    \n",
    "\n",
    "\n",
    "\n",
    "#logic : Find a way to message, satellite also message, when they are in proximity interchange message and stop.         \n",
    "    \n",
    "    "
   ]
  },
  {
   "cell_type": "code",
   "execution_count": null,
   "metadata": {
    "collapsed": true
   },
   "outputs": [],
   "source": []
  }
 ],
 "metadata": {
  "kernelspec": {
   "display_name": "Python 3",
   "language": "python",
   "name": "python3"
  },
  "language_info": {
   "codemirror_mode": {
    "name": "ipython",
    "version": 3
   },
   "file_extension": ".py",
   "mimetype": "text/x-python",
   "name": "python",
   "nbconvert_exporter": "python",
   "pygments_lexer": "ipython3",
   "version": "3.6.1"
  }
 },
 "nbformat": 4,
 "nbformat_minor": 2
}
