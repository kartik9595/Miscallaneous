{
 "cells": [
  {
   "cell_type": "code",
   "execution_count": null,
   "metadata": {},
   "outputs": [
    {
     "data": {
      "application/javascript": [
       "require.undef(\"nbextensions/vpython_libraries/glow.min\");"
      ],
      "text/plain": [
       "<IPython.core.display.Javascript object>"
      ]
     },
     "metadata": {},
     "output_type": "display_data"
    },
    {
     "data": {
      "application/javascript": [
       "require.undef(\"nbextensions/vpython_libraries/glowcomm\");"
      ],
      "text/plain": [
       "<IPython.core.display.Javascript object>"
      ]
     },
     "metadata": {},
     "output_type": "display_data"
    },
    {
     "data": {
      "application/javascript": [
       "require.undef(\"nbextensions/vpython_libraries/jquery-ui.custom.min\");"
      ],
      "text/plain": [
       "<IPython.core.display.Javascript object>"
      ]
     },
     "metadata": {},
     "output_type": "display_data"
    },
    {
     "data": {
      "application/javascript": [
       "require([\"nbextensions/vpython_libraries/glow.min\"], function(){console.log(\"GLOW LOADED\");})"
      ],
      "text/plain": [
       "<IPython.core.display.Javascript object>"
      ]
     },
     "metadata": {},
     "output_type": "display_data"
    },
    {
     "data": {
      "application/javascript": [
       "require([\"nbextensions/vpython_libraries/glowcomm\"], function(){console.log(\"GLOWCOMM LOADED\");})"
      ],
      "text/plain": [
       "<IPython.core.display.Javascript object>"
      ]
     },
     "metadata": {},
     "output_type": "display_data"
    },
    {
     "data": {
      "application/javascript": [
       "require([\"nbextensions/vpython_libraries/jquery-ui.custom.min\"], function(){console.log(\"JQUERY LOADED\");})"
      ],
      "text/plain": [
       "<IPython.core.display.Javascript object>"
      ]
     },
     "metadata": {},
     "output_type": "display_data"
    },
    {
     "data": {
      "text/html": [
       "<div id=\"glowscript\" class=\"glowscript\"></div>"
      ],
      "text/plain": [
       "<IPython.core.display.HTML object>"
      ]
     },
     "metadata": {},
     "output_type": "display_data"
    },
    {
     "data": {
      "application/javascript": [
       "window.__context = { glowscript_container: $(\"#glowscript\").removeAttr(\"id\")}"
      ],
      "text/plain": [
       "<IPython.core.display.Javascript object>"
      ]
     },
     "metadata": {},
     "output_type": "display_data"
    },
    {
     "data": {
      "text/html": [
       "<div id=\"glowscript\" class=\"glowscript\"></div>"
      ],
      "text/plain": [
       "<IPython.core.display.HTML object>"
      ]
     },
     "metadata": {},
     "output_type": "display_data"
    },
    {
     "data": {
      "application/javascript": [
       "window.__context = { glowscript_container: $(\"#glowscript\").removeAttr(\"id\")}"
      ],
      "text/plain": [
       "<IPython.core.display.Javascript object>"
      ]
     },
     "metadata": {},
     "output_type": "display_data"
    }
   ],
   "source": [
    "from __future__ import division, print_function\n",
    "from vpython import *\n",
    "\n",
    "# Right button drag or Ctrl-drag to rotate \"camera\" to view scene.\n",
    "# To zoom, drag with middle button or Alt/Option depressed, or use scroll wheel.\n",
    "#  On a two-button mouse, middle is left + right.\n",
    "\n",
    "scene=canvas(title=\"EARTH SATELLITE SYSTEM\")\n",
    "G = 6.7e-11\n",
    "\n",
    "earth=sphere(pos=vector(0,0,0), radius=6.4e6 , color=color.blue, \n",
    "                make_trail=False, trail_type='points', interval=10, retain=20)\n",
    "earth.mass= 5.98e24\n",
    "\n",
    "satelliteMEO= sphere(pos=vector(0,20e6+6.4e6,0), radius=1e6, color=color.yellow,\n",
    "                make_trail=True, retain=40)\n",
    "mybox_left = box(pos=vector(0,20e6+6.4e6+1e6,0), length=1e5, height=1e6, width=1e6) \n",
    "mybox_right = box(pos=vector(0,20e6+6.4e6-1e6,0), length=1e5, height=1e6, width=1e6) \n",
    "\n",
    "\n",
    "satelliteMEO.velocity=vector(sqrt(G*earth.mass/mag(satelliteMEO.pos)),0,0)\n",
    "\n",
    "satelliteLEO= sphere(pos=vector(0,163e3+6.4e6,0), radius=1e6, color=color.green,\n",
    "                make_trail=True, retain=40)\n",
    "\n",
    "satelliteLEO.velocity=vector(sqrt(G*earth.mass/mag(satelliteLEO.pos)),0,0)\n",
    "\n",
    "satelliteGEO= sphere(pos=vector(0, 36e6+6.4e6,0), radius=1e6, color=color.red,\n",
    "                make_trail=True, retain=40)\n",
    "\n",
    "satelliteGEO.velocity=vector(sqrt(G*earth.mass/mag(satelliteGEO.pos)),0,0)\n",
    "\n",
    "dt = 10\n",
    "while True:\n",
    "    rate(100)\n",
    "    rMEO=satelliteMEO.pos-earth.pos\n",
    "    FMEO=(-rMEO/mag(rMEO))*G*earth.mass/mag2(rMEO)\n",
    "    satelliteMEO.velocity=satelliteMEO.velocity+FMEO*dt\n",
    "    satelliteMEO.pos=satelliteMEO.pos+satelliteMEO.velocity*dt\n",
    "    \n",
    "    \n",
    "    rLEO=satelliteLEO.pos-earth.pos\n",
    "    FLEO=(-rLEO/mag(rLEO))*G*earth.mass/mag2(rLEO)\n",
    "    satelliteLEO.velocity=satelliteLEO.velocity+FLEO*dt\n",
    "    satelliteLEO.pos=satelliteLEO.pos+satelliteLEO.velocity*dt\n",
    "    \n",
    "    rGEO=satelliteGEO.pos-earth.pos\n",
    "    FGEO=(-rGEO/mag(rGEO))*G*earth.mass/mag2(rGEO)\n",
    "    satelliteGEO.velocity=satelliteGEO.velocity+FGEO*dt\n",
    "    satelliteGEO.pos=satelliteGEO.pos+satelliteGEO.velocity*dt"
   ]
  },
  {
   "cell_type": "code",
   "execution_count": null,
   "metadata": {
    "collapsed": true
   },
   "outputs": [],
   "source": []
  },
  {
   "cell_type": "code",
   "execution_count": null,
   "metadata": {
    "collapsed": true
   },
   "outputs": [],
   "source": []
  },
  {
   "cell_type": "code",
   "execution_count": null,
   "metadata": {
    "collapsed": true
   },
   "outputs": [],
   "source": []
  },
  {
   "cell_type": "code",
   "execution_count": null,
   "metadata": {
    "collapsed": true
   },
   "outputs": [],
   "source": []
  }
 ],
 "metadata": {
  "kernelspec": {
   "display_name": "Python 3",
   "language": "python",
   "name": "python3"
  },
  "language_info": {
   "codemirror_mode": {
    "name": "ipython",
    "version": 3
   },
   "file_extension": ".py",
   "mimetype": "text/x-python",
   "name": "python",
   "nbconvert_exporter": "python",
   "pygments_lexer": "ipython3",
   "version": "3.6.1"
  }
 },
 "nbformat": 4,
 "nbformat_minor": 2
}
