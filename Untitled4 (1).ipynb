{
 "cells": [
  {
   "cell_type": "code",
   "execution_count": null,
   "metadata": {},
   "outputs": [
    {
     "data": {
      "application/javascript": [
       "require.undef(\"nbextensions/vpython_libraries/glow.min\");"
      ],
      "text/plain": [
       "<IPython.core.display.Javascript object>"
      ]
     },
     "metadata": {},
     "output_type": "display_data"
    },
    {
     "data": {
      "application/javascript": [
       "require.undef(\"nbextensions/vpython_libraries/glowcomm\");"
      ],
      "text/plain": [
       "<IPython.core.display.Javascript object>"
      ]
     },
     "metadata": {},
     "output_type": "display_data"
    },
    {
     "data": {
      "application/javascript": [
       "require.undef(\"nbextensions/vpython_libraries/jquery-ui.custom.min\");"
      ],
      "text/plain": [
       "<IPython.core.display.Javascript object>"
      ]
     },
     "metadata": {},
     "output_type": "display_data"
    },
    {
     "data": {
      "application/javascript": [
       "require([\"nbextensions/vpython_libraries/glow.min\"], function(){console.log(\"GLOW LOADED\");})"
      ],
      "text/plain": [
       "<IPython.core.display.Javascript object>"
      ]
     },
     "metadata": {},
     "output_type": "display_data"
    },
    {
     "data": {
      "application/javascript": [
       "require([\"nbextensions/vpython_libraries/glowcomm\"], function(){console.log(\"GLOWCOMM LOADED\");})"
      ],
      "text/plain": [
       "<IPython.core.display.Javascript object>"
      ]
     },
     "metadata": {},
     "output_type": "display_data"
    },
    {
     "data": {
      "application/javascript": [
       "require([\"nbextensions/vpython_libraries/jquery-ui.custom.min\"], function(){console.log(\"JQUERY LOADED\");})"
      ],
      "text/plain": [
       "<IPython.core.display.Javascript object>"
      ]
     },
     "metadata": {},
     "output_type": "display_data"
    },
    {
     "data": {
      "text/html": [
       "<div id=\"glowscript\" class=\"glowscript\"></div>"
      ],
      "text/plain": [
       "<IPython.core.display.HTML object>"
      ]
     },
     "metadata": {},
     "output_type": "display_data"
    },
    {
     "data": {
      "application/javascript": [
       "window.__context = { glowscript_container: $(\"#glowscript\").removeAttr(\"id\")}"
      ],
      "text/plain": [
       "<IPython.core.display.Javascript object>"
      ]
     },
     "metadata": {},
     "output_type": "display_data"
    },
    {
     "data": {
      "text/html": [
       "<div id=\"glowscript\" class=\"glowscript\"></div>"
      ],
      "text/plain": [
       "<IPython.core.display.HTML object>"
      ]
     },
     "metadata": {},
     "output_type": "display_data"
    },
    {
     "data": {
      "application/javascript": [
       "window.__context = { glowscript_container: $(\"#glowscript\").removeAttr(\"id\")}"
      ],
      "text/plain": [
       "<IPython.core.display.Javascript object>"
      ]
     },
     "metadata": {},
     "output_type": "display_data"
    }
   ],
   "source": [
    "from __future__ import division, print_function\n",
    "from vpython import *\n",
    "import math\n",
    "\n",
    "# Right button drag or Ctrl-drag to rotate \"camera\" to view scene.\n",
    "# To zoom, drag with middle button or Alt/Option depressed, or use scroll wheel.\n",
    "#  On a two-button mouse, middle is left + right.\n",
    "\n",
    "scene=canvas(title=\"CONSTELLATION\")\n",
    "G = 6.7e-11\n",
    "\n",
    "class Planet:\n",
    "    def __init__(self, mass, position, radius, col):\n",
    "        self.mass = mass\n",
    "        self.position = position\n",
    "        self.radius=radius\n",
    "        self.col=col\n",
    "        self.s=sphere(pos=self.position, radius=self.radius, color=self.col, \n",
    "                make_trail=True, trail_type='points', interval=10, retain=20)\n",
    "        \n",
    "class Satellite:\n",
    "    def __init__(self, planet, position, radius, col,angular,orbital):\n",
    "        self.planet = planet\n",
    "        self.position = position\n",
    "        self.radius=radius\n",
    "        self.col=col\n",
    "        self.s=sphere(pos=self.position, radius=self.radius, color=self.col, \n",
    "                make_trail=True, trail_type='curve', interval=10, retain=500)      \n",
    "        self.r=self.s.pos-self.planet.position\n",
    "        self.x=cos(orbital)*(cos(angular)*sqrt(G*self.planet.mass/mag(self.position)))\n",
    "        self.y=cos(orbital)*(sin(angular)*sqrt(G*self.planet.mass/mag(self.position)))\n",
    "        self.z=sin(orbital)*sqrt(G*self.planet.mass/mag(self.position))\n",
    "        self.velocity=vector(self.x,self.y,self.z) \n",
    "        self.mybox_left = box(pos=self.position+vector(0,1e6,0),axis=self.s.pos,length=1e6, height=1e5, width=1e6, up=self.r) \n",
    "        self.mybox_right = box(pos=self.position-vector(0,1e6,0),axis=self.s.pos,length=1e6, height=1e5, width=1e6,up=self.r) \n",
    "    def updatePosition(self,dt):   \n",
    "        self.dt = dt\n",
    "        self.r=self.s.pos-self.planet.position\n",
    "        self.f=(-self.r/mag(self.r))*G*self.planet.mass/mag2(self.r)\n",
    "        self.velocity=self.velocity+self.f*self.dt\n",
    "        self.s.pos=self.s.pos+self.velocity*self.dt\n",
    "        self.mybox_left.pos=self.mybox_left.pos+self.velocity*self.dt\n",
    "        self.mybox_right.pos=self.mybox_right.pos+self.velocity*self.dt\n",
    "            \n",
    "        \n",
    "earth=Planet(5.98e24,vector(0,0,0),6.4e6,color.green)        \n",
    "#moon=Planet(0.07346e24,vector(378e6,0,0),1.736e6,color.yellow)\n",
    "\n",
    "pos1=vector(0,20e6+6.4e6,0)\n",
    "pos2=rotate(pos1, angle=2*pi/3, axis=vector(0,0,1))\n",
    "pos3=rotate(pos1, angle=4*pi/3, axis=vector(0,0,1))\n",
    "satelliteO1= Satellite(earth,pos1,1e6,color.red,0,0)\n",
    "satelliteO2= Satellite(earth,pos2,1e6,color.blue,2*pi/3,0)\n",
    "satelliteO3= Satellite(earth,pos3,1e6,color.orange,4*pi/3,0)\n",
    "\n",
    "\n",
    "satelliteO4= Satellite(earth,pos1,1e6,color.red,0,pi/2)\n",
    "satelliteO5= Satellite(earth,pos2,1e6,color.blue,2*pi/3,pi/2)\n",
    "satelliteO6= Satellite(earth,pos3,1e6,color.orange,4*pi/3,pi/2)\n",
    "\n",
    "\n",
    "satelliteO7= Satellite(earth,pos1,1e6,color.red,0,-pi/2)\n",
    "satelliteO8= Satellite(earth,pos2,1e6,color.blue,2*pi/3,-pi/2)\n",
    "satelliteO9= Satellite(earth,pos3,1e6,color.orange,4*pi/3,-pi/2)\n",
    "\n",
    "satellite10= Satellite(earth,pos1,1e6,color.white,0,-pi)\n",
    "satellite11= Satellite(earth,pos1,1e6,color.white,0,pi/4)\n",
    "satellite12= Satellite(earth,pos1,1e6,color.white,0,-pi/4)\n",
    "\n",
    "\n",
    "\n",
    "while True:\n",
    "    rate(100)    \n",
    "    satelliteO1.updatePosition(10)\n",
    "    satelliteO2.updatePosition(10)\n",
    "    satelliteO3.updatePosition(10)\n",
    "    satelliteO4.updatePosition(10)\n",
    "    satelliteO5.updatePosition(10)\n",
    "    satelliteO6.updatePosition(10)\n",
    "    satelliteO7.updatePosition(10)\n",
    "    satelliteO8.updatePosition(10)\n",
    "    satelliteO9.updatePosition(10)\n",
    "    satellite10.updatePosition(10)\n",
    "    satellite11.updatePosition(10)\n",
    "    satellite12.updatePosition(10)\n",
    "\n",
    "   \n",
    "    \n",
    "    \n",
    "         \n"
   ]
  }
 ],
 "metadata": {
  "kernelspec": {
   "display_name": "Python 3",
   "language": "python",
   "name": "python3"
  },
  "language_info": {
   "codemirror_mode": {
    "name": "ipython",
    "version": 3
   },
   "file_extension": ".py",
   "mimetype": "text/x-python",
   "name": "python",
   "nbconvert_exporter": "python",
   "pygments_lexer": "ipython3",
   "version": "3.6.1"
  }
 },
 "nbformat": 4,
 "nbformat_minor": 2
}
