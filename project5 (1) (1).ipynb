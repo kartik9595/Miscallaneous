{
 "cells": [
  {
   "cell_type": "code",
   "execution_count": null,
   "metadata": {},
   "outputs": [
    {
     "data": {
      "text/html": [
       "<div id=\"glowscript\" class=\"glowscript\"></div>"
      ],
      "text/plain": [
       "<IPython.core.display.HTML object>"
      ]
     },
     "metadata": {},
     "output_type": "display_data"
    },
    {
     "data": {
      "application/javascript": [
       "window.__context = { glowscript_container: $(\"#glowscript\").removeAttr(\"id\")}"
      ],
      "text/plain": [
       "<IPython.core.display.Javascript object>"
      ]
     },
     "metadata": {},
     "output_type": "display_data"
    }
   ],
   "source": [
    "from __future__ import division, print_function\n",
    "from vpython import *\n",
    "import math\n",
    "\n",
    "# Right button drag or Ctrl-drag to rotate \"camera\" to view scene.\n",
    "# To zoom, drag with middle button or Alt/Option depressed, or use scroll wheel.\n",
    "#  On a two-button mouse, middle is left + right.\n",
    "\n",
    "scene=canvas(title=\"EARTH SATELLITE SYSTEM\")\n",
    "G = 6.7e-11\n",
    "\n",
    "class Planet:\n",
    "    def __init__(self, mass, position, radius, col):\n",
    "        self.mass = mass\n",
    "        self.position = position\n",
    "        self.radius=radius\n",
    "        self.col=col\n",
    "        self.s=sphere(pos=self.position, radius=self.radius, color=self.col, \n",
    "                make_trail=True, trail_type='points', interval=10, retain=20)\n",
    "        \n",
    "class Satellite:\n",
    "    def __init__(self, planet, position, radius, col,coverage):\n",
    "        self.planet = planet\n",
    "        self.position = position\n",
    "        self.radius=radius\n",
    "        self.col=col\n",
    "        self.s=sphere(pos=self.position, radius=self.radius, color=self.col, \n",
    "                make_trail=True, trail_type='points', interval=10, retain=20)      \n",
    "        self.r=self.s.pos-self.planet.position\n",
    "        self.velocity=vector(sqrt(G*self.planet.mass/mag(self.position)),0,0)\n",
    "        self.con=cone(pos=self.planet.position, axis=self.s.pos,radius=(mag(self.r)*math.tan(coverage*pi/180)),opacity=0.5)\n",
    "        self.mybox_left = box(pos=self.position+vector(0,1e6,0),axis=self.s.pos,length=1e6, height=1e5, width=1e6, up=self.r) \n",
    "        self.mybox_right = box(pos=self.position-vector(0,1e6,0),axis=self.s.pos,length=1e6, height=1e5, width=1e6,up=self.r) \n",
    "        \n",
    "    def updatePosition(self,dt):   \n",
    "        self.dt = dt\n",
    "        self.r=self.s.pos-self.planet.position\n",
    "        self.f=(-self.r/mag(self.r))*G*self.planet.mass/mag2(self.r)\n",
    "        self.velocity=self.velocity+self.f*self.dt\n",
    "        self.s.pos=self.s.pos+self.velocity*self.dt\n",
    "        self.con.axis=self.s.pos\n",
    "        self.mybox_left.pos=self.mybox_left.pos+self.velocity*self.dt\n",
    "        self.mybox_right.pos=self.mybox_right.pos+self.velocity*self.dt\n",
    "        \n",
    "   \n",
    "            \n",
    "        \n",
    "earth=Planet(5.98e24,vector(0,0,0),6.4e6,color.green)        \n",
    "moon=Planet(0.07346e24,vector(378e6,0,0),1.736e6,color.yellow)\n",
    "satelliteMEO= Satellite(earth,vector(0,20e6+6.4e6,0),1e6,color.red,6)\n",
    "satelliteLEO= Satellite(earth,vector(0,163e3+6.4e6,0),1e6,color.blue,30)\n",
    "satelliteGEO= Satellite(earth,vector(0, 36e6+6.4e6,0),1e6,color.yellow,17/2)\n",
    "\n",
    "    \n",
    "while True:\n",
    "    rate(100)    \n",
    "    satelliteMEO.updatePosition(10)\n",
    "    satelliteLEO.updatePosition(10)\n",
    "    satelliteGEO.updatePosition(10)\n",
    "    \n",
    "    \n",
    "         "
   ]
  },
  {
   "cell_type": "code",
   "execution_count": null,
   "metadata": {
    "collapsed": true
   },
   "outputs": [],
   "source": []
  },
  {
   "cell_type": "code",
   "execution_count": null,
   "metadata": {
    "collapsed": true
   },
   "outputs": [],
   "source": []
  },
  {
   "cell_type": "code",
   "execution_count": null,
   "metadata": {
    "collapsed": true
   },
   "outputs": [],
   "source": []
  },
  {
   "cell_type": "code",
   "execution_count": null,
   "metadata": {
    "collapsed": true
   },
   "outputs": [],
   "source": []
  }
 ],
 "metadata": {
  "kernelspec": {
   "display_name": "Python 3",
   "language": "python",
   "name": "python3"
  },
  "language_info": {
   "codemirror_mode": {
    "name": "ipython",
    "version": 3
   },
   "file_extension": ".py",
   "mimetype": "text/x-python",
   "name": "python",
   "nbconvert_exporter": "python",
   "pygments_lexer": "ipython3",
   "version": "3.6.1"
  }
 },
 "nbformat": 4,
 "nbformat_minor": 2
}
